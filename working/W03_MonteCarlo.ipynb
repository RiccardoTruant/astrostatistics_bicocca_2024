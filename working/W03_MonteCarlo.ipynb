{
 "cells": [
  {
   "cell_type": "code",
   "execution_count": 1,
   "id": "823083f1-02cf-4b32-b59f-c0b4cd9974c8",
   "metadata": {},
   "outputs": [],
   "source": [
    "#Library:\n",
    "\n",
    "%matplotlib inline\n",
    "import numpy as np\n",
    "import math\n",
    "import random\n",
    "#import matplotib\n",
    "import matplotlib.pyplot as plt\n",
    "import matplotlib.colors\n",
    "\n",
    "import matplotlib.gridspec as gridspec\n",
    "from matplotlib import cm\n",
    "from matplotlib import colors\n",
    "from matplotlib.ticker import PercentFormatter\n",
    "from matplotlib.ticker import (MultipleLocator, AutoMinorLocator)\n",
    "from matplotlib.contour import ContourSet\n",
    "from matplotlib.path import Path\n",
    "import matplotlib as mpl\n",
    "import seaborn as sns\n",
    "import pandas as pd\n",
    "from scipy.optimize import curve_fit\n",
    "#set the cosmology\n",
    "from astropy.cosmology import FlatLambdaCDM\n",
    "from astropy import constants as const\n",
    "import astropy.units as u\n",
    "import os\n",
    "import glob\n",
    "import re\n",
    "import sys\n",
    "from scipy.integrate import quad\n",
    "from scipy import interpolate\n",
    "from scipy.optimize import fsolve\n",
    "from scipy.interpolate import interp1d\n",
    "from astropy.cosmology import FlatLambdaCDM\n",
    "from scipy import interpolate\n",
    "\n",
    "Hubble_h = 0.673\n",
    "Omega_M = 0.315\n",
    "Omega_Lambda = 0.683\n",
    "cosmo = FlatLambdaCDM(H0=Hubble_h*100, Om0=Omega_M)\n",
    "\n",
    "#universal constant: i want all in solar mass , second and Mpc\n",
    "c=const.c.to('Mpc/ s') /(u.Mpc)*(u.s) # Mpc/s\n",
    "G=const.G.to('Mpc3 /M_sun s2') /(u.Mpc**3)*(u.s**2)*(u.M_sun)\n",
    "Lsun=const.L_sun.value\n",
    "# Create a FlatLambdaCDM instance\n",
    "f_yr=1/(60*60*24*365.25)"
   ]
  },
  {
   "cell_type": "code",
   "execution_count": 4,
   "id": "1d4e28cc-cde4-4470-96aa-a88579b21ab9",
   "metadata": {},
   "outputs": [
    {
     "data": {
      "text/plain": [
       "1394.562863682204"
      ]
     },
     "execution_count": 4,
     "metadata": {},
     "output_type": "execute_result"
    }
   ],
   "source": [
    "xmax= 4\n",
    "xmin=0.3\n",
    "\n",
    "xi=np.random.uniform(xmin,xmax, 100000)\n",
    "\n",
    "def fun(x):\n",
    "    return np.exp(x)*(4*x+3)**0.5 * np.log(x**6)/np.tanh(x)\n",
    "\n",
    "integral = (xmax-xmin) * np.mean(fun(xi))\n",
    "\n",
    "integral"
   ]
  },
  {
   "cell_type": "code",
   "execution_count": 22,
   "id": "41e80f4d-2cd9-427e-aa20-27f9bb2901a6",
   "metadata": {},
   "outputs": [],
   "source": [
    "#scipy nrml:\n",
    "import scipy.stats\n",
    "from scipy.stats import norm\n",
    "from scipy.stats import uniform\n",
    "\n",
    "N = 1000\n",
    "distU = scipy.stats.norm(0,2)\n",
    "draws = distU.rvs(N) # ten random draws"
   ]
  },
  {
   "cell_type": "code",
   "execution_count": 75,
   "id": "ad51a659-4d57-4632-b1f1-dd4cc5c39dde",
   "metadata": {},
   "outputs": [
    {
     "name": "stdout",
     "output_type": "stream",
     "text": [
      "32.082669252066204\n"
     ]
    }
   ],
   "source": [
    "# compute the numberical integal\n",
    "sig = 2\n",
    "# x**3 exp(-x^2/(2sig^2)dx\n",
    "#use monte carlo\n",
    "def fun(x):\n",
    "    return np.sqrt(2.*np.pi*sig*sig)*2* x**3\n",
    "    \n",
    "    \n",
    "\n",
    "#res 2sig**4 = 32\n",
    "distxi = scipy.stats.norm(0,2)\n",
    "xi = abs(distxi.rvs(100000))\n",
    "integral = np.mean(fun(xi))\n",
    "print(integral/4)"
   ]
  },
  {
   "cell_type": "code",
   "execution_count": null,
   "id": "6c80142a-e259-4526-aedd-5c9368b2590f",
   "metadata": {},
   "outputs": [],
   "source": []
  }
 ],
 "metadata": {
  "kernelspec": {
   "display_name": "Python 3 (ipykernel)",
   "language": "python",
   "name": "python3"
  },
  "language_info": {
   "codemirror_mode": {
    "name": "ipython",
    "version": 3
   },
   "file_extension": ".py",
   "mimetype": "text/x-python",
   "name": "python",
   "nbconvert_exporter": "python",
   "pygments_lexer": "ipython3",
   "version": "3.10.12"
  }
 },
 "nbformat": 4,
 "nbformat_minor": 5
}
